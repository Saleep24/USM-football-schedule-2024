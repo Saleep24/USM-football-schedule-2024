{
 "cells": [
  {
   "cell_type": "code",
   "execution_count": 1,
   "id": "97d516ea",
   "metadata": {
    "_cell_guid": "b1076dfc-b9ad-4769-8c92-a6c4dae69d19",
    "_uuid": "8f2839f25d086af736a60e9eeb907d3b93b6e0e5",
    "execution": {
     "iopub.execute_input": "2024-05-16T02:02:10.042018Z",
     "iopub.status.busy": "2024-05-16T02:02:10.041580Z",
     "iopub.status.idle": "2024-05-16T02:02:11.465878Z",
     "shell.execute_reply": "2024-05-16T02:02:11.464269Z"
    },
    "papermill": {
     "duration": 1.432352,
     "end_time": "2024-05-16T02:02:11.468298",
     "exception": false,
     "start_time": "2024-05-16T02:02:10.035946",
     "status": "completed"
    },
    "tags": []
   },
   "outputs": [],
   "source": [
    "import requests\n",
    "import pandas as pd\n",
    "from bs4 import BeautifulSoup"
   ]
  },
  {
   "cell_type": "code",
   "execution_count": 2,
   "id": "df5a112d",
   "metadata": {
    "execution": {
     "iopub.execute_input": "2024-05-16T02:02:11.477507Z",
     "iopub.status.busy": "2024-05-16T02:02:11.476600Z",
     "iopub.status.idle": "2024-05-16T02:02:11.482665Z",
     "shell.execute_reply": "2024-05-16T02:02:11.481146Z"
    },
    "papermill": {
     "duration": 0.012543,
     "end_time": "2024-05-16T02:02:11.484583",
     "exception": false,
     "start_time": "2024-05-16T02:02:11.472040",
     "status": "completed"
    },
    "tags": []
   },
   "outputs": [],
   "source": [
    "url = (\"https://www.wdam.com/2024/03/02/usm-announces-2024-conference-football-dates/\")"
   ]
  },
  {
   "cell_type": "code",
   "execution_count": 3,
   "id": "d2e9902b",
   "metadata": {
    "execution": {
     "iopub.execute_input": "2024-05-16T02:02:11.494634Z",
     "iopub.status.busy": "2024-05-16T02:02:11.494282Z",
     "iopub.status.idle": "2024-05-16T02:02:11.602802Z",
     "shell.execute_reply": "2024-05-16T02:02:11.601563Z"
    },
    "papermill": {
     "duration": 0.116088,
     "end_time": "2024-05-16T02:02:11.605262",
     "exception": false,
     "start_time": "2024-05-16T02:02:11.489174",
     "status": "completed"
    },
    "tags": []
   },
   "outputs": [],
   "source": [
    "content = requests.get(url)"
   ]
  },
  {
   "cell_type": "code",
   "execution_count": 4,
   "id": "c4e508c6",
   "metadata": {
    "execution": {
     "iopub.execute_input": "2024-05-16T02:02:11.615003Z",
     "iopub.status.busy": "2024-05-16T02:02:11.614565Z",
     "iopub.status.idle": "2024-05-16T02:02:11.641060Z",
     "shell.execute_reply": "2024-05-16T02:02:11.640201Z"
    },
    "papermill": {
     "duration": 0.034368,
     "end_time": "2024-05-16T02:02:11.643374",
     "exception": false,
     "start_time": "2024-05-16T02:02:11.609006",
     "status": "completed"
    },
    "tags": []
   },
   "outputs": [],
   "source": [
    "soup = BeautifulSoup(content.text, \"lxml\")"
   ]
  },
  {
   "cell_type": "code",
   "execution_count": 5,
   "id": "e95edcf2",
   "metadata": {
    "execution": {
     "iopub.execute_input": "2024-05-16T02:02:11.653112Z",
     "iopub.status.busy": "2024-05-16T02:02:11.652715Z",
     "iopub.status.idle": "2024-05-16T02:02:11.658392Z",
     "shell.execute_reply": "2024-05-16T02:02:11.657266Z"
    },
    "papermill": {
     "duration": 0.01323,
     "end_time": "2024-05-16T02:02:11.660970",
     "exception": false,
     "start_time": "2024-05-16T02:02:11.647740",
     "status": "completed"
    },
    "tags": []
   },
   "outputs": [],
   "source": [
    "table = soup.find(\"table\", class_ = \"table\")"
   ]
  },
  {
   "cell_type": "code",
   "execution_count": 6,
   "id": "4eb4fdd8",
   "metadata": {
    "execution": {
     "iopub.execute_input": "2024-05-16T02:02:11.669685Z",
     "iopub.status.busy": "2024-05-16T02:02:11.669330Z",
     "iopub.status.idle": "2024-05-16T02:02:11.674309Z",
     "shell.execute_reply": "2024-05-16T02:02:11.673169Z"
    },
    "papermill": {
     "duration": 0.012486,
     "end_time": "2024-05-16T02:02:11.676962",
     "exception": false,
     "start_time": "2024-05-16T02:02:11.664476",
     "status": "completed"
    },
    "tags": []
   },
   "outputs": [],
   "source": [
    "headers = table.find_all(\"th\")"
   ]
  },
  {
   "cell_type": "code",
   "execution_count": 7,
   "id": "4be56287",
   "metadata": {
    "execution": {
     "iopub.execute_input": "2024-05-16T02:02:11.686221Z",
     "iopub.status.busy": "2024-05-16T02:02:11.685792Z",
     "iopub.status.idle": "2024-05-16T02:02:11.691573Z",
     "shell.execute_reply": "2024-05-16T02:02:11.689917Z"
    },
    "papermill": {
     "duration": 0.014818,
     "end_time": "2024-05-16T02:02:11.695483",
     "exception": false,
     "start_time": "2024-05-16T02:02:11.680665",
     "status": "completed"
    },
    "tags": []
   },
   "outputs": [],
   "source": [
    "titles = []"
   ]
  },
  {
   "cell_type": "code",
   "execution_count": 8,
   "id": "02c7d68d",
   "metadata": {
    "execution": {
     "iopub.execute_input": "2024-05-16T02:02:11.704662Z",
     "iopub.status.busy": "2024-05-16T02:02:11.704238Z",
     "iopub.status.idle": "2024-05-16T02:02:11.711322Z",
     "shell.execute_reply": "2024-05-16T02:02:11.709217Z"
    },
    "papermill": {
     "duration": 0.015785,
     "end_time": "2024-05-16T02:02:11.714989",
     "exception": false,
     "start_time": "2024-05-16T02:02:11.699204",
     "status": "completed"
    },
    "tags": []
   },
   "outputs": [],
   "source": [
    "for i in headers:\n",
    "    title = i.text\n",
    "    titles.append(title)"
   ]
  },
  {
   "cell_type": "code",
   "execution_count": 9,
   "id": "1e460691",
   "metadata": {
    "execution": {
     "iopub.execute_input": "2024-05-16T02:02:11.724218Z",
     "iopub.status.busy": "2024-05-16T02:02:11.723845Z",
     "iopub.status.idle": "2024-05-16T02:02:11.733900Z",
     "shell.execute_reply": "2024-05-16T02:02:11.732407Z"
    },
    "papermill": {
     "duration": 0.017529,
     "end_time": "2024-05-16T02:02:11.736335",
     "exception": false,
     "start_time": "2024-05-16T02:02:11.718806",
     "status": "completed"
    },
    "tags": []
   },
   "outputs": [],
   "source": [
    "df = pd.DataFrame(columns = titles)"
   ]
  },
  {
   "cell_type": "code",
   "execution_count": 10,
   "id": "866cf7d2",
   "metadata": {
    "execution": {
     "iopub.execute_input": "2024-05-16T02:02:11.745146Z",
     "iopub.status.busy": "2024-05-16T02:02:11.744732Z",
     "iopub.status.idle": "2024-05-16T02:02:11.750334Z",
     "shell.execute_reply": "2024-05-16T02:02:11.748916Z"
    },
    "papermill": {
     "duration": 0.013109,
     "end_time": "2024-05-16T02:02:11.753076",
     "exception": false,
     "start_time": "2024-05-16T02:02:11.739967",
     "status": "completed"
    },
    "tags": []
   },
   "outputs": [],
   "source": [
    "rows = table.find_all(\"tr\")"
   ]
  },
  {
   "cell_type": "code",
   "execution_count": 11,
   "id": "793f730d",
   "metadata": {
    "execution": {
     "iopub.execute_input": "2024-05-16T02:02:11.762188Z",
     "iopub.status.busy": "2024-05-16T02:02:11.761801Z",
     "iopub.status.idle": "2024-05-16T02:02:11.788415Z",
     "shell.execute_reply": "2024-05-16T02:02:11.786577Z"
    },
    "papermill": {
     "duration": 0.034065,
     "end_time": "2024-05-16T02:02:11.791107",
     "exception": false,
     "start_time": "2024-05-16T02:02:11.757042",
     "status": "completed"
    },
    "tags": []
   },
   "outputs": [],
   "source": [
    "for i in rows[1:]:\n",
    "    data = i.find_all(\"td\")\n",
    "    row = [tr.text for tr in data]\n",
    "    l = len(df)\n",
    "    df.loc[l] = row"
   ]
  },
  {
   "cell_type": "code",
   "execution_count": 12,
   "id": "3f8f60fc",
   "metadata": {
    "execution": {
     "iopub.execute_input": "2024-05-16T02:02:11.801005Z",
     "iopub.status.busy": "2024-05-16T02:02:11.800622Z",
     "iopub.status.idle": "2024-05-16T02:02:11.813221Z",
     "shell.execute_reply": "2024-05-16T02:02:11.812044Z"
    },
    "papermill": {
     "duration": 0.020413,
     "end_time": "2024-05-16T02:02:11.815598",
     "exception": false,
     "start_time": "2024-05-16T02:02:11.795185",
     "status": "completed"
    },
    "tags": []
   },
   "outputs": [
    {
     "name": "stdout",
     "output_type": "stream",
     "text": [
      "        Date                           Opponent                      Site\n",
      "0    Aug. 31          at University of Kentucky       Lexington, Kentucky\n",
      "1    Sept. 7  Southeastern Louisiana University               Hattiesburg\n",
      "2   Sept. 14        University of South Florida               Hattiesburg\n",
      "3   Sept. 21   at Jacksonville State University     Jacksonville, Alabama\n",
      "4   Sept. 28                               OPEN               -----------\n",
      "5     Oct. 5  University of Louisiana-Lafayette               Hattiesburg\n",
      "6    Oct. 12  at University of Louisiana-Monroe         Monroe, Louisiana\n",
      "7    Oct. 19          Arkansas State University  Hattiesburg (Homecoming)\n",
      "8    Oct. 26        at James Madison University    Harrisonburg, Virginia\n",
      "9     Nov. 2                               OPEN               -----------\n",
      "10    Nov. 9                Marshall University               Hattiesburg\n",
      "11   Nov. 16          at Texas State University         San Marcos, Texas\n",
      "12   Nov. 23        University of South Alabama               Hattiesburg\n",
      "13   Nov. 30              at University of Troy             Troy, Alabama\n"
     ]
    }
   ],
   "source": [
    "print (df)"
   ]
  },
  {
   "cell_type": "code",
   "execution_count": 13,
   "id": "3772995c",
   "metadata": {
    "execution": {
     "iopub.execute_input": "2024-05-16T02:02:11.826397Z",
     "iopub.status.busy": "2024-05-16T02:02:11.826055Z",
     "iopub.status.idle": "2024-05-16T02:02:11.836535Z",
     "shell.execute_reply": "2024-05-16T02:02:11.834329Z"
    },
    "papermill": {
     "duration": 0.020704,
     "end_time": "2024-05-16T02:02:11.840520",
     "exception": false,
     "start_time": "2024-05-16T02:02:11.819816",
     "status": "completed"
    },
    "tags": []
   },
   "outputs": [],
   "source": [
    "df.to_csv(\"USM football schedule 2024.csv\", index = False)"
   ]
  },
  {
   "cell_type": "code",
   "execution_count": null,
   "id": "3879fce1",
   "metadata": {
    "papermill": {
     "duration": 0.00332,
     "end_time": "2024-05-16T02:02:11.848405",
     "exception": false,
     "start_time": "2024-05-16T02:02:11.845085",
     "status": "completed"
    },
    "tags": []
   },
   "outputs": [],
   "source": []
  }
 ],
 "metadata": {
  "kaggle": {
   "accelerator": "none",
   "dataSources": [],
   "dockerImageVersionId": 30698,
   "isGpuEnabled": false,
   "isInternetEnabled": true,
   "language": "python",
   "sourceType": "notebook"
  },
  "kernelspec": {
   "display_name": "Python 3",
   "language": "python",
   "name": "python3"
  },
  "language_info": {
   "codemirror_mode": {
    "name": "ipython",
    "version": 3
   },
   "file_extension": ".py",
   "mimetype": "text/x-python",
   "name": "python",
   "nbconvert_exporter": "python",
   "pygments_lexer": "ipython3",
   "version": "3.10.13"
  },
  "papermill": {
   "default_parameters": {},
   "duration": 7.958836,
   "end_time": "2024-05-16T02:02:15.416225",
   "environment_variables": {},
   "exception": null,
   "input_path": "__notebook__.ipynb",
   "output_path": "__notebook__.ipynb",
   "parameters": {},
   "start_time": "2024-05-16T02:02:07.457389",
   "version": "2.5.0"
  }
 },
 "nbformat": 4,
 "nbformat_minor": 5
}
